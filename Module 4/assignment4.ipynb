{
 "cells": [
  {
   "cell_type": "markdown",
   "metadata": {},
   "source": [
    "# Module 4 Assignment\n",
    "\n",
    "> Which needs are easily measured and what you would measure about them?\n",
    "1. How do you know if you've met the needs?\n",
    "2. What are the specifications needed for each metric? \n",
    "3. Finally, in 2-3 paragraphs describe, how will physiology play a part in your measurements and specifications"
   ]
  },
  {
   "cell_type": "markdown",
   "metadata": {},
   "source": [
    "| Customer need | metrics | specs |\n",
    "| --- | --- | --- | \n",
    "| Needs to be able to locate a bus stop with high accuracy. | accuracy on test dataset  | accurately identifies a bus stop in at least 97% of images | \n",
    "| Needs to be able to identify when a bus has stopped.  | real time data accuracy | bus location should be accurate to 100 meters on a gps. | \n",
    "| Requires real-time information about bus arrival times and any delays or changes in the schedule. | real time data accuracy | route data should be updated every 5 minutes | \n",
    "| Needs the device to be portable and lightweight, ensuring ease of carrying while traveling.  | weight and size | \tweighs less than 500 grams and has dimensions less than 20cm x 10cm x 5cm | "
   ]
  },
  {
   "cell_type": "markdown",
   "metadata": {},
   "source": [
    "Physiology will play a crucial role in determining the feasibility and accuracy of the measurements and specifications for the mentioned customer needs. For instance, when it comes to the accuracy of locating a bus stop in images, understanding human vision and perception will be essential. Ultimately, a solution that instead complements the customers sense of hearing would be optimal. I envision glasses/headphones that have cameras, and will communicate the direction and distance to a bus stop using a loud low-pitch rumbling noise. As the cameras detect the bus stop is further, the volume is lower, and as you approach, the volume increases. To communicate direction, we would use spatial audio capabilities that would make the sound come from one side or the other depending on the direction of the bus stop. The device's ability to process and analyze data in real-time should consider human cognitive and attentional capacities. For instance, the frequency of updates and the amount of information presented should be optimized to avoid overwhelming the user and ensure easy comprehension of the data. This is why the low-bass noise would be optimal "
   ]
  }
 ],
 "metadata": {
  "language_info": {
   "name": "python"
  },
  "orig_nbformat": 4
 },
 "nbformat": 4,
 "nbformat_minor": 2
}
