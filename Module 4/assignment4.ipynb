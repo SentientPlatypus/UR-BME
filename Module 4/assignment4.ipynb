{
 "cells": [
  {
   "cell_type": "markdown",
   "metadata": {},
   "source": [
    "# Module 4 Assignment\n",
    "\n",
    "> Which needs are easily measured and what you would measure about them?\n",
    "1. How do you know if you've met the needs?\n",
    "2. What are the specifications needed for each metric? \n",
    "3. Finally, in 2-3 paragraphs describe, how will physiology play a part in your measurements and specifications"
   ]
  },
  {
   "cell_type": "markdown",
   "metadata": {},
   "source": [
    "| Customer need | metrics | specs |\n",
    "| --- | --- | --- | \n",
    "| Needs to be able to locate a bus stop with high accuracy. | -- | --- | \n",
    "| Needs to be able to identify when a bus has stopped.  | | --- | \n",
    "| Requires real-time information about bus arrival times and any delays or changes in the schedule. |  | --- | \n",
    "| Needs the device to be portable and lightweight, ensuring ease of carrying while traveling.  |  | --- | "
   ]
  }
 ],
 "metadata": {
  "language_info": {
   "name": "python"
  },
  "orig_nbformat": 4
 },
 "nbformat": 4,
 "nbformat_minor": 2
}
