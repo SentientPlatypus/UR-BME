{
 "cells": [
  {
   "cell_type": "markdown",
   "metadata": {},
   "source": [
    "# Module 1 Assignment\n",
    "\n",
    "> Using what you have learned about the field of biomedicine and the stakeholders involved, you will apply this information to identify a real-world need and solution."
   ]
  },
  {
   "cell_type": "markdown",
   "metadata": {},
   "source": [
    "### Health related issues and news\n",
    "\n",
    "1. Norovirus is incredibly contagious, and has outbreaks on cruise ships as told [here](https://www.cnn.com/2023/07/11/health/norovirus-outbreaks-cruise-ships-wellness/index.html)\n",
    "2. Alzheimer's needs a better, non symptom-based, diagnosis, as many people receive incorrect treatment as shown [here](https://www.cnn.com/2023/07/16/health/race-to-reform-alzheimers-disease-diagnosis/index.html)\n",
    "3. Common sneakers are not ergonomic for weightlifting, and we need a better solution. [This article](https://www.cnn.com/cnn-underscored/health-fitness/best-weightlifting-shoes) summarizes the problem and provides some solutions."
   ]
  },
  {
   "cell_type": "markdown",
   "metadata": {},
   "source": [
    "### Customer selection\n",
    "> I choose Customer 1\n",
    "\n",
    "\n",
    "I will choose customer 1, who has a visual impairment which hinders them from using public transportation. This customer interests me because I feel there are many solutions to this problem that involve computer vision. For example, we could use object detection to detect not only busses and bus stops, but also other obstacles including people, animals, and cars. By leveraging computer vision technology, we can empower individuals with visual impairments to confidently utilize public transportation, fostering independence and inclusivity in their daily lives."
   ]
  }
 ],
 "metadata": {
  "language_info": {
   "name": "python"
  },
  "orig_nbformat": 4
 },
 "nbformat": 4,
 "nbformat_minor": 2
}
