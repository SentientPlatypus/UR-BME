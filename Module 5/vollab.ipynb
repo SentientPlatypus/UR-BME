{
 "cells": [
  {
   "cell_type": "markdown",
   "metadata": {},
   "source": [
    "# Heart data analysis'\n",
    "\n",
    "in this lab, we have a frog heart pumping fluid through a tube. We know the displacement of the water level, and we wish to calculate the pressure."
   ]
  },
  {
   "cell_type": "code",
   "execution_count": 31,
   "metadata": {
    "vscode": {
     "languageId": "r"
    }
   },
   "outputs": [
    {
     "data": {
      "text/html": [
       "<table class=\"dataframe\">\n",
       "<caption>A data.frame: 12 × 3</caption>\n",
       "<thead>\n",
       "\t<tr><th scope=col>totalvol</th><th scope=col>diastolic</th><th scope=col>systolic</th></tr>\n",
       "\t<tr><th scope=col>&lt;dbl&gt;</th><th scope=col>&lt;dbl&gt;</th><th scope=col>&lt;dbl&gt;</th></tr>\n",
       "</thead>\n",
       "<tbody>\n",
       "\t<tr><td>0.2</td><td>0.08</td><td>0.18</td></tr>\n",
       "\t<tr><td>0.4</td><td>0.11</td><td>0.31</td></tr>\n",
       "\t<tr><td>0.6</td><td>0.13</td><td>0.44</td></tr>\n",
       "\t<tr><td>0.8</td><td>0.15</td><td>0.57</td></tr>\n",
       "\t<tr><td>1.0</td><td>0.19</td><td>0.66</td></tr>\n",
       "\t<tr><td>1.2</td><td>0.20</td><td>0.73</td></tr>\n",
       "\t<tr><td>1.4</td><td>0.22</td><td>0.77</td></tr>\n",
       "\t<tr><td>1.6</td><td>0.27</td><td>0.80</td></tr>\n",
       "\t<tr><td>1.8</td><td>0.33</td><td>0.83</td></tr>\n",
       "\t<tr><td>2.0</td><td>0.39</td><td>0.85</td></tr>\n",
       "\t<tr><td>2.2</td><td>0.46</td><td>0.89</td></tr>\n",
       "\t<tr><td>2.4</td><td>0.52</td><td>0.97</td></tr>\n",
       "</tbody>\n",
       "</table>\n"
      ],
      "text/latex": [
       "A data.frame: 12 × 3\n",
       "\\begin{tabular}{lll}\n",
       " totalvol & diastolic & systolic\\\\\n",
       " <dbl> & <dbl> & <dbl>\\\\\n",
       "\\hline\n",
       "\t 0.2 & 0.08 & 0.18\\\\\n",
       "\t 0.4 & 0.11 & 0.31\\\\\n",
       "\t 0.6 & 0.13 & 0.44\\\\\n",
       "\t 0.8 & 0.15 & 0.57\\\\\n",
       "\t 1.0 & 0.19 & 0.66\\\\\n",
       "\t 1.2 & 0.20 & 0.73\\\\\n",
       "\t 1.4 & 0.22 & 0.77\\\\\n",
       "\t 1.6 & 0.27 & 0.80\\\\\n",
       "\t 1.8 & 0.33 & 0.83\\\\\n",
       "\t 2.0 & 0.39 & 0.85\\\\\n",
       "\t 2.2 & 0.46 & 0.89\\\\\n",
       "\t 2.4 & 0.52 & 0.97\\\\\n",
       "\\end{tabular}\n"
      ],
      "text/markdown": [
       "\n",
       "A data.frame: 12 × 3\n",
       "\n",
       "| totalvol &lt;dbl&gt; | diastolic &lt;dbl&gt; | systolic &lt;dbl&gt; |\n",
       "|---|---|---|\n",
       "| 0.2 | 0.08 | 0.18 |\n",
       "| 0.4 | 0.11 | 0.31 |\n",
       "| 0.6 | 0.13 | 0.44 |\n",
       "| 0.8 | 0.15 | 0.57 |\n",
       "| 1.0 | 0.19 | 0.66 |\n",
       "| 1.2 | 0.20 | 0.73 |\n",
       "| 1.4 | 0.22 | 0.77 |\n",
       "| 1.6 | 0.27 | 0.80 |\n",
       "| 1.8 | 0.33 | 0.83 |\n",
       "| 2.0 | 0.39 | 0.85 |\n",
       "| 2.2 | 0.46 | 0.89 |\n",
       "| 2.4 | 0.52 | 0.97 |\n",
       "\n"
      ],
      "text/plain": [
       "   totalvol diastolic systolic\n",
       "1  0.2      0.08      0.18    \n",
       "2  0.4      0.11      0.31    \n",
       "3  0.6      0.13      0.44    \n",
       "4  0.8      0.15      0.57    \n",
       "5  1.0      0.19      0.66    \n",
       "6  1.2      0.20      0.73    \n",
       "7  1.4      0.22      0.77    \n",
       "8  1.6      0.27      0.80    \n",
       "9  1.8      0.33      0.83    \n",
       "10 2.0      0.39      0.85    \n",
       "11 2.2      0.46      0.89    \n",
       "12 2.4      0.52      0.97    "
      ]
     },
     "metadata": {},
     "output_type": "display_data"
    }
   ],
   "source": [
    "data <- read.csv(\"data.csv\")\n",
    "data"
   ]
  },
  {
   "cell_type": "code",
   "execution_count": 32,
   "metadata": {
    "vscode": {
     "languageId": "r"
    }
   },
   "outputs": [
    {
     "data": {
      "text/html": [
       "<table class=\"dataframe\">\n",
       "<caption>A data.frame: 12 × 1</caption>\n",
       "<thead>\n",
       "\t<tr><th scope=col>volume atrium diastole</th></tr>\n",
       "\t<tr><th scope=col>&lt;dbl&gt;</th></tr>\n",
       "</thead>\n",
       "<tbody>\n",
       "\t<tr><td>0.12</td></tr>\n",
       "\t<tr><td>0.29</td></tr>\n",
       "\t<tr><td>0.47</td></tr>\n",
       "\t<tr><td>0.65</td></tr>\n",
       "\t<tr><td>0.81</td></tr>\n",
       "\t<tr><td>1.00</td></tr>\n",
       "\t<tr><td>1.18</td></tr>\n",
       "\t<tr><td>1.33</td></tr>\n",
       "\t<tr><td>1.47</td></tr>\n",
       "\t<tr><td>1.61</td></tr>\n",
       "\t<tr><td>1.74</td></tr>\n",
       "\t<tr><td>1.88</td></tr>\n",
       "</tbody>\n",
       "</table>\n"
      ],
      "text/latex": [
       "A data.frame: 12 × 1\n",
       "\\begin{tabular}{l}\n",
       " volume atrium diastole\\\\\n",
       " <dbl>\\\\\n",
       "\\hline\n",
       "\t 0.12\\\\\n",
       "\t 0.29\\\\\n",
       "\t 0.47\\\\\n",
       "\t 0.65\\\\\n",
       "\t 0.81\\\\\n",
       "\t 1.00\\\\\n",
       "\t 1.18\\\\\n",
       "\t 1.33\\\\\n",
       "\t 1.47\\\\\n",
       "\t 1.61\\\\\n",
       "\t 1.74\\\\\n",
       "\t 1.88\\\\\n",
       "\\end{tabular}\n"
      ],
      "text/markdown": [
       "\n",
       "A data.frame: 12 × 1\n",
       "\n",
       "| volume atrium diastole &lt;dbl&gt; |\n",
       "|---|\n",
       "| 0.12 |\n",
       "| 0.29 |\n",
       "| 0.47 |\n",
       "| 0.65 |\n",
       "| 0.81 |\n",
       "| 1.00 |\n",
       "| 1.18 |\n",
       "| 1.33 |\n",
       "| 1.47 |\n",
       "| 1.61 |\n",
       "| 1.74 |\n",
       "| 1.88 |\n",
       "\n"
      ],
      "text/plain": [
       "   volume atrium diastole\n",
       "1  0.12                  \n",
       "2  0.29                  \n",
       "3  0.47                  \n",
       "4  0.65                  \n",
       "5  0.81                  \n",
       "6  1.00                  \n",
       "7  1.18                  \n",
       "8  1.33                  \n",
       "9  1.47                  \n",
       "10 1.61                  \n",
       "11 1.74                  \n",
       "12 1.88                  "
      ]
     },
     "metadata": {},
     "output_type": "display_data"
    }
   ],
   "source": [
    "data[\"volume atrium diastole\"] <- data[\"totalvol\"] - data[\"diastolic\"]\n",
    "data[\"volume atrium diastole\"]"
   ]
  },
  {
   "cell_type": "code",
   "execution_count": 33,
   "metadata": {
    "vscode": {
     "languageId": "r"
    }
   },
   "outputs": [
    {
     "data": {
      "text/html": [
       "<table class=\"dataframe\">\n",
       "<caption>A data.frame: 12 × 1</caption>\n",
       "<thead>\n",
       "\t<tr><th scope=col>volume atrium systole</th></tr>\n",
       "\t<tr><th scope=col>&lt;dbl&gt;</th></tr>\n",
       "</thead>\n",
       "<tbody>\n",
       "\t<tr><td>0.02</td></tr>\n",
       "\t<tr><td>0.09</td></tr>\n",
       "\t<tr><td>0.16</td></tr>\n",
       "\t<tr><td>0.23</td></tr>\n",
       "\t<tr><td>0.34</td></tr>\n",
       "\t<tr><td>0.47</td></tr>\n",
       "\t<tr><td>0.63</td></tr>\n",
       "\t<tr><td>0.80</td></tr>\n",
       "\t<tr><td>0.97</td></tr>\n",
       "\t<tr><td>1.15</td></tr>\n",
       "\t<tr><td>1.31</td></tr>\n",
       "\t<tr><td>1.43</td></tr>\n",
       "</tbody>\n",
       "</table>\n"
      ],
      "text/latex": [
       "A data.frame: 12 × 1\n",
       "\\begin{tabular}{l}\n",
       " volume atrium systole\\\\\n",
       " <dbl>\\\\\n",
       "\\hline\n",
       "\t 0.02\\\\\n",
       "\t 0.09\\\\\n",
       "\t 0.16\\\\\n",
       "\t 0.23\\\\\n",
       "\t 0.34\\\\\n",
       "\t 0.47\\\\\n",
       "\t 0.63\\\\\n",
       "\t 0.80\\\\\n",
       "\t 0.97\\\\\n",
       "\t 1.15\\\\\n",
       "\t 1.31\\\\\n",
       "\t 1.43\\\\\n",
       "\\end{tabular}\n"
      ],
      "text/markdown": [
       "\n",
       "A data.frame: 12 × 1\n",
       "\n",
       "| volume atrium systole &lt;dbl&gt; |\n",
       "|---|\n",
       "| 0.02 |\n",
       "| 0.09 |\n",
       "| 0.16 |\n",
       "| 0.23 |\n",
       "| 0.34 |\n",
       "| 0.47 |\n",
       "| 0.63 |\n",
       "| 0.80 |\n",
       "| 0.97 |\n",
       "| 1.15 |\n",
       "| 1.31 |\n",
       "| 1.43 |\n",
       "\n"
      ],
      "text/plain": [
       "   volume atrium systole\n",
       "1  0.02                 \n",
       "2  0.09                 \n",
       "3  0.16                 \n",
       "4  0.23                 \n",
       "5  0.34                 \n",
       "6  0.47                 \n",
       "7  0.63                 \n",
       "8  0.80                 \n",
       "9  0.97                 \n",
       "10 1.15                 \n",
       "11 1.31                 \n",
       "12 1.43                 "
      ]
     },
     "metadata": {},
     "output_type": "display_data"
    }
   ],
   "source": [
    "data[\"volume atrium systole\"] <- data[\"totalvol\"] - data[\"systolic\"]\n",
    "data[\"volume atrium systole\"]"
   ]
  },
  {
   "cell_type": "markdown",
   "metadata": {},
   "source": [
    "Now we wish to calculate pressure. We know that 1ml is 5.7cm of h20 (from the video)"
   ]
  },
  {
   "cell_type": "code",
   "execution_count": 34,
   "metadata": {
    "vscode": {
     "languageId": "r"
    }
   },
   "outputs": [
    {
     "data": {
      "text/html": [
       "<table class=\"dataframe\">\n",
       "<caption>A data.frame: 12 × 1</caption>\n",
       "<thead>\n",
       "\t<tr><th scope=col>pressure diastole</th></tr>\n",
       "\t<tr><th scope=col>&lt;dbl&gt;</th></tr>\n",
       "</thead>\n",
       "<tbody>\n",
       "\t<tr><td>0.456</td></tr>\n",
       "\t<tr><td>0.627</td></tr>\n",
       "\t<tr><td>0.741</td></tr>\n",
       "\t<tr><td>0.855</td></tr>\n",
       "\t<tr><td>1.083</td></tr>\n",
       "\t<tr><td>1.140</td></tr>\n",
       "\t<tr><td>1.254</td></tr>\n",
       "\t<tr><td>1.539</td></tr>\n",
       "\t<tr><td>1.881</td></tr>\n",
       "\t<tr><td>2.223</td></tr>\n",
       "\t<tr><td>2.622</td></tr>\n",
       "\t<tr><td>2.964</td></tr>\n",
       "</tbody>\n",
       "</table>\n"
      ],
      "text/latex": [
       "A data.frame: 12 × 1\n",
       "\\begin{tabular}{l}\n",
       " pressure diastole\\\\\n",
       " <dbl>\\\\\n",
       "\\hline\n",
       "\t 0.456\\\\\n",
       "\t 0.627\\\\\n",
       "\t 0.741\\\\\n",
       "\t 0.855\\\\\n",
       "\t 1.083\\\\\n",
       "\t 1.140\\\\\n",
       "\t 1.254\\\\\n",
       "\t 1.539\\\\\n",
       "\t 1.881\\\\\n",
       "\t 2.223\\\\\n",
       "\t 2.622\\\\\n",
       "\t 2.964\\\\\n",
       "\\end{tabular}\n"
      ],
      "text/markdown": [
       "\n",
       "A data.frame: 12 × 1\n",
       "\n",
       "| pressure diastole &lt;dbl&gt; |\n",
       "|---|\n",
       "| 0.456 |\n",
       "| 0.627 |\n",
       "| 0.741 |\n",
       "| 0.855 |\n",
       "| 1.083 |\n",
       "| 1.140 |\n",
       "| 1.254 |\n",
       "| 1.539 |\n",
       "| 1.881 |\n",
       "| 2.223 |\n",
       "| 2.622 |\n",
       "| 2.964 |\n",
       "\n"
      ],
      "text/plain": [
       "   pressure diastole\n",
       "1  0.456            \n",
       "2  0.627            \n",
       "3  0.741            \n",
       "4  0.855            \n",
       "5  1.083            \n",
       "6  1.140            \n",
       "7  1.254            \n",
       "8  1.539            \n",
       "9  1.881            \n",
       "10 2.223            \n",
       "11 2.622            \n",
       "12 2.964            "
      ]
     },
     "metadata": {},
     "output_type": "display_data"
    }
   ],
   "source": [
    "data[\"pressure diastole\"] <- data[\"diastolic\"] * 5.7\n",
    "data[\"pressure diastole\"]"
   ]
  },
  {
   "cell_type": "code",
   "execution_count": 35,
   "metadata": {
    "vscode": {
     "languageId": "r"
    }
   },
   "outputs": [
    {
     "data": {
      "text/html": [
       "<table class=\"dataframe\">\n",
       "<caption>A data.frame: 12 × 1</caption>\n",
       "<thead>\n",
       "\t<tr><th scope=col>pressure systole</th></tr>\n",
       "\t<tr><th scope=col>&lt;dbl&gt;</th></tr>\n",
       "</thead>\n",
       "<tbody>\n",
       "\t<tr><td>1.026</td></tr>\n",
       "\t<tr><td>1.767</td></tr>\n",
       "\t<tr><td>2.508</td></tr>\n",
       "\t<tr><td>3.249</td></tr>\n",
       "\t<tr><td>3.762</td></tr>\n",
       "\t<tr><td>4.161</td></tr>\n",
       "\t<tr><td>4.389</td></tr>\n",
       "\t<tr><td>4.560</td></tr>\n",
       "\t<tr><td>4.731</td></tr>\n",
       "\t<tr><td>4.845</td></tr>\n",
       "\t<tr><td>5.073</td></tr>\n",
       "\t<tr><td>5.529</td></tr>\n",
       "</tbody>\n",
       "</table>\n"
      ],
      "text/latex": [
       "A data.frame: 12 × 1\n",
       "\\begin{tabular}{l}\n",
       " pressure systole\\\\\n",
       " <dbl>\\\\\n",
       "\\hline\n",
       "\t 1.026\\\\\n",
       "\t 1.767\\\\\n",
       "\t 2.508\\\\\n",
       "\t 3.249\\\\\n",
       "\t 3.762\\\\\n",
       "\t 4.161\\\\\n",
       "\t 4.389\\\\\n",
       "\t 4.560\\\\\n",
       "\t 4.731\\\\\n",
       "\t 4.845\\\\\n",
       "\t 5.073\\\\\n",
       "\t 5.529\\\\\n",
       "\\end{tabular}\n"
      ],
      "text/markdown": [
       "\n",
       "A data.frame: 12 × 1\n",
       "\n",
       "| pressure systole &lt;dbl&gt; |\n",
       "|---|\n",
       "| 1.026 |\n",
       "| 1.767 |\n",
       "| 2.508 |\n",
       "| 3.249 |\n",
       "| 3.762 |\n",
       "| 4.161 |\n",
       "| 4.389 |\n",
       "| 4.560 |\n",
       "| 4.731 |\n",
       "| 4.845 |\n",
       "| 5.073 |\n",
       "| 5.529 |\n",
       "\n"
      ],
      "text/plain": [
       "   pressure systole\n",
       "1  1.026           \n",
       "2  1.767           \n",
       "3  2.508           \n",
       "4  3.249           \n",
       "5  3.762           \n",
       "6  4.161           \n",
       "7  4.389           \n",
       "8  4.560           \n",
       "9  4.731           \n",
       "10 4.845           \n",
       "11 5.073           \n",
       "12 5.529           "
      ]
     },
     "metadata": {},
     "output_type": "display_data"
    }
   ],
   "source": [
    "data[\"pressure systole\"] <- data[\"systolic\"] * 5.7\n",
    "data[\"pressure systole\"]"
   ]
  },
  {
   "cell_type": "markdown",
   "metadata": {},
   "source": [
    "# Final\n",
    "\n",
    "Finally, our data looks like this"
   ]
  },
  {
   "cell_type": "code",
   "execution_count": 36,
   "metadata": {
    "vscode": {
     "languageId": "r"
    }
   },
   "outputs": [
    {
     "data": {
      "text/html": [
       "<table class=\"dataframe\">\n",
       "<caption>A data.frame: 12 × 7</caption>\n",
       "<thead>\n",
       "\t<tr><th scope=col>totalvol</th><th scope=col>diastolic</th><th scope=col>systolic</th><th scope=col>volume atrium diastole</th><th scope=col>volume atrium systole</th><th scope=col>pressure diastole</th><th scope=col>pressure systole</th></tr>\n",
       "\t<tr><th scope=col>&lt;dbl&gt;</th><th scope=col>&lt;dbl&gt;</th><th scope=col>&lt;dbl&gt;</th><th scope=col>&lt;dbl&gt;</th><th scope=col>&lt;dbl&gt;</th><th scope=col>&lt;dbl&gt;</th><th scope=col>&lt;dbl&gt;</th></tr>\n",
       "</thead>\n",
       "<tbody>\n",
       "\t<tr><td>0.2</td><td>0.08</td><td>0.18</td><td>0.12</td><td>0.02</td><td>0.456</td><td>1.026</td></tr>\n",
       "\t<tr><td>0.4</td><td>0.11</td><td>0.31</td><td>0.29</td><td>0.09</td><td>0.627</td><td>1.767</td></tr>\n",
       "\t<tr><td>0.6</td><td>0.13</td><td>0.44</td><td>0.47</td><td>0.16</td><td>0.741</td><td>2.508</td></tr>\n",
       "\t<tr><td>0.8</td><td>0.15</td><td>0.57</td><td>0.65</td><td>0.23</td><td>0.855</td><td>3.249</td></tr>\n",
       "\t<tr><td>1.0</td><td>0.19</td><td>0.66</td><td>0.81</td><td>0.34</td><td>1.083</td><td>3.762</td></tr>\n",
       "\t<tr><td>1.2</td><td>0.20</td><td>0.73</td><td>1.00</td><td>0.47</td><td>1.140</td><td>4.161</td></tr>\n",
       "\t<tr><td>1.4</td><td>0.22</td><td>0.77</td><td>1.18</td><td>0.63</td><td>1.254</td><td>4.389</td></tr>\n",
       "\t<tr><td>1.6</td><td>0.27</td><td>0.80</td><td>1.33</td><td>0.80</td><td>1.539</td><td>4.560</td></tr>\n",
       "\t<tr><td>1.8</td><td>0.33</td><td>0.83</td><td>1.47</td><td>0.97</td><td>1.881</td><td>4.731</td></tr>\n",
       "\t<tr><td>2.0</td><td>0.39</td><td>0.85</td><td>1.61</td><td>1.15</td><td>2.223</td><td>4.845</td></tr>\n",
       "\t<tr><td>2.2</td><td>0.46</td><td>0.89</td><td>1.74</td><td>1.31</td><td>2.622</td><td>5.073</td></tr>\n",
       "\t<tr><td>2.4</td><td>0.52</td><td>0.97</td><td>1.88</td><td>1.43</td><td>2.964</td><td>5.529</td></tr>\n",
       "</tbody>\n",
       "</table>\n"
      ],
      "text/latex": [
       "A data.frame: 12 × 7\n",
       "\\begin{tabular}{lllllll}\n",
       " totalvol & diastolic & systolic & volume atrium diastole & volume atrium systole & pressure diastole & pressure systole\\\\\n",
       " <dbl> & <dbl> & <dbl> & <dbl> & <dbl> & <dbl> & <dbl>\\\\\n",
       "\\hline\n",
       "\t 0.2 & 0.08 & 0.18 & 0.12 & 0.02 & 0.456 & 1.026\\\\\n",
       "\t 0.4 & 0.11 & 0.31 & 0.29 & 0.09 & 0.627 & 1.767\\\\\n",
       "\t 0.6 & 0.13 & 0.44 & 0.47 & 0.16 & 0.741 & 2.508\\\\\n",
       "\t 0.8 & 0.15 & 0.57 & 0.65 & 0.23 & 0.855 & 3.249\\\\\n",
       "\t 1.0 & 0.19 & 0.66 & 0.81 & 0.34 & 1.083 & 3.762\\\\\n",
       "\t 1.2 & 0.20 & 0.73 & 1.00 & 0.47 & 1.140 & 4.161\\\\\n",
       "\t 1.4 & 0.22 & 0.77 & 1.18 & 0.63 & 1.254 & 4.389\\\\\n",
       "\t 1.6 & 0.27 & 0.80 & 1.33 & 0.80 & 1.539 & 4.560\\\\\n",
       "\t 1.8 & 0.33 & 0.83 & 1.47 & 0.97 & 1.881 & 4.731\\\\\n",
       "\t 2.0 & 0.39 & 0.85 & 1.61 & 1.15 & 2.223 & 4.845\\\\\n",
       "\t 2.2 & 0.46 & 0.89 & 1.74 & 1.31 & 2.622 & 5.073\\\\\n",
       "\t 2.4 & 0.52 & 0.97 & 1.88 & 1.43 & 2.964 & 5.529\\\\\n",
       "\\end{tabular}\n"
      ],
      "text/markdown": [
       "\n",
       "A data.frame: 12 × 7\n",
       "\n",
       "| totalvol &lt;dbl&gt; | diastolic &lt;dbl&gt; | systolic &lt;dbl&gt; | volume atrium diastole &lt;dbl&gt; | volume atrium systole &lt;dbl&gt; | pressure diastole &lt;dbl&gt; | pressure systole &lt;dbl&gt; |\n",
       "|---|---|---|---|---|---|---|\n",
       "| 0.2 | 0.08 | 0.18 | 0.12 | 0.02 | 0.456 | 1.026 |\n",
       "| 0.4 | 0.11 | 0.31 | 0.29 | 0.09 | 0.627 | 1.767 |\n",
       "| 0.6 | 0.13 | 0.44 | 0.47 | 0.16 | 0.741 | 2.508 |\n",
       "| 0.8 | 0.15 | 0.57 | 0.65 | 0.23 | 0.855 | 3.249 |\n",
       "| 1.0 | 0.19 | 0.66 | 0.81 | 0.34 | 1.083 | 3.762 |\n",
       "| 1.2 | 0.20 | 0.73 | 1.00 | 0.47 | 1.140 | 4.161 |\n",
       "| 1.4 | 0.22 | 0.77 | 1.18 | 0.63 | 1.254 | 4.389 |\n",
       "| 1.6 | 0.27 | 0.80 | 1.33 | 0.80 | 1.539 | 4.560 |\n",
       "| 1.8 | 0.33 | 0.83 | 1.47 | 0.97 | 1.881 | 4.731 |\n",
       "| 2.0 | 0.39 | 0.85 | 1.61 | 1.15 | 2.223 | 4.845 |\n",
       "| 2.2 | 0.46 | 0.89 | 1.74 | 1.31 | 2.622 | 5.073 |\n",
       "| 2.4 | 0.52 | 0.97 | 1.88 | 1.43 | 2.964 | 5.529 |\n",
       "\n"
      ],
      "text/plain": [
       "   totalvol diastolic systolic volume atrium diastole volume atrium systole\n",
       "1  0.2      0.08      0.18     0.12                   0.02                 \n",
       "2  0.4      0.11      0.31     0.29                   0.09                 \n",
       "3  0.6      0.13      0.44     0.47                   0.16                 \n",
       "4  0.8      0.15      0.57     0.65                   0.23                 \n",
       "5  1.0      0.19      0.66     0.81                   0.34                 \n",
       "6  1.2      0.20      0.73     1.00                   0.47                 \n",
       "7  1.4      0.22      0.77     1.18                   0.63                 \n",
       "8  1.6      0.27      0.80     1.33                   0.80                 \n",
       "9  1.8      0.33      0.83     1.47                   0.97                 \n",
       "10 2.0      0.39      0.85     1.61                   1.15                 \n",
       "11 2.2      0.46      0.89     1.74                   1.31                 \n",
       "12 2.4      0.52      0.97     1.88                   1.43                 \n",
       "   pressure diastole pressure systole\n",
       "1  0.456             1.026           \n",
       "2  0.627             1.767           \n",
       "3  0.741             2.508           \n",
       "4  0.855             3.249           \n",
       "5  1.083             3.762           \n",
       "6  1.140             4.161           \n",
       "7  1.254             4.389           \n",
       "8  1.539             4.560           \n",
       "9  1.881             4.731           \n",
       "10 2.223             4.845           \n",
       "11 2.622             5.073           \n",
       "12 2.964             5.529           "
      ]
     },
     "metadata": {},
     "output_type": "display_data"
    }
   ],
   "source": [
    "data"
   ]
  },
  {
   "cell_type": "markdown",
   "metadata": {},
   "source": [
    "# Plotting the data.\n",
    "\n",
    "First we would like to plot pressure vs volume across both systole and diastoel"
   ]
  },
  {
   "cell_type": "code",
   "execution_count": 37,
   "metadata": {
    "vscode": {
     "languageId": "r"
    }
   },
   "outputs": [
    {
     "data": {
      "image/png": "[encoded data removed]",
      "text/plain": [
       "plot without title"
      ]
     },
     "metadata": {
      "image/png": {
       "height": 420,
       "width": 420
      }
     },
     "output_type": "display_data"
    }
   ],
   "source": [
    "library(ggplot2)\n",
    "\n",
    "ggplot(data = data, aes(x = `volume atrium systole`, y = `pressure systole`)) +\n",
    "  geom_point(color = \"blue\", size = 3) +\n",
    "  labs(title = \"Pressure Systole vs Volume Atrium Systole\",\n",
    "       x = \"Volume Atrium Systole\",\n",
    "       y = \"Pressure Systole\") +\n",
    "  theme_minimal() "
   ]
  },
  {
   "cell_type": "code",
   "execution_count": 38,
   "metadata": {
    "vscode": {
     "languageId": "r"
    }
   },
   "outputs": [
    {
     "data": {
      "image/png": "[encoded data removed]",
      "text/plain": [
       "plot without title"
      ]
     },
     "metadata": {
      "image/png": {
       "height": 420,
       "width": 420
      }
     },
     "output_type": "display_data"
    }
   ],
   "source": [
    "ggplot(data = data, aes(x = `volume atrium diastole`, y = `pressure diastole`)) +\n",
    "  geom_point(color = \"#ff0000\", size = 3) +\n",
    "  labs(title = \"Pressure Diastole vs Volume Atrium Diastole\",\n",
    "       x = \"Volume Atrium Diastole\",\n",
    "       y = \"Pressure Diastole\") +\n",
    "  theme_minimal() "
   ]
  },
  {
   "cell_type": "markdown",
   "metadata": {},
   "source": [
    "# Compliance\n",
    "\n",
    "$$C = \\frac{\\triangle V}{\\triangle P}$$"
   ]
  },
  {
   "cell_type": "markdown",
   "metadata": {},
   "source": [
    "Lets get our grpahs in"
   ]
  },
  {
   "cell_type": "code",
   "execution_count": 42,
   "metadata": {
    "vscode": {
     "languageId": "r"
    }
   },
   "outputs": [
    {
     "data": {
      "image/png": "[encoded data removed]",
      "text/plain": [
       "plot without title"
      ]
     },
     "metadata": {
      "image/png": {
       "height": 420,
       "width": 420
      }
     },
     "output_type": "display_data"
    }
   ],
   "source": [
    "ggplot(data = data, aes(y = `volume atrium diastole`, x = `pressure diastole`)) +\n",
    "  geom_point(color = \"#ff0000\", size = 3) +\n",
    "  labs(title = \"Pressure Diastole vs Volume Atrium Diastole\",\n",
    "       y = \"Volume Atrium Diastole\",\n",
    "       x = \"Pressure Diastole\") +\n",
    "  theme_minimal() "
   ]
  },
  {
   "cell_type": "code",
   "execution_count": 43,
   "metadata": {
    "vscode": {
     "languageId": "r"
    }
   },
   "outputs": [
    {
     "data": {
      "image/png": "[encoded data removed]",
      "text/plain": [
       "plot without title"
      ]
     },
     "metadata": {
      "image/png": {
       "height": 420,
       "width": 420
      }
     },
     "output_type": "display_data"
    }
   ],
   "source": [
    "ggplot(data = data, aes(y = `volume atrium systole`, x = `pressure systole`)) +\n",
    "  geom_point(color = \"#ff0000\", size = 3) +\n",
    "  labs(title = \"Pressure systole vs Volume Atrium systole\",\n",
    "       y = \"Volume Atrium systole\",\n",
    "       x = \"Pressure systole\") +\n",
    "  theme_minimal() "
   ]
  },
  {
   "cell_type": "markdown",
   "metadata": {},
   "source": [
    "Lets run a linear regression, and we have the slope of the line!!"
   ]
  },
  {
   "cell_type": "code",
   "execution_count": 49,
   "metadata": {
    "vscode": {
     "languageId": "r"
    }
   },
   "outputs": [
    {
     "data": {
      "text/plain": [
       "\n",
       "Call:\n",
       "lm(formula = `volume atrium diastole` ~ `pressure diastole`, \n",
       "    data = data)\n",
       "\n",
       "Residuals:\n",
       "     Min       1Q   Median       3Q      Max \n",
       "-0.24358 -0.13188  0.01387  0.13692  0.26801 \n",
       "\n",
       "Coefficients:\n",
       "                    Estimate Std. Error t value Pr(>|t|)    \n",
       "(Intercept)          0.05020    0.11022   0.455    0.659    \n",
       "`pressure diastole`  0.68724    0.06704  10.251 1.27e-06 ***\n",
       "---\n",
       "Signif. codes:  0 '***' 0.001 '**' 0.01 '*' 0.05 '.' 0.1 ' ' 1\n",
       "\n",
       "Residual standard error: 0.1805 on 10 degrees of freedom\n",
       "Multiple R-squared:  0.9131,\tAdjusted R-squared:  0.9044 \n",
       "F-statistic: 105.1 on 1 and 10 DF,  p-value: 1.266e-06\n"
      ]
     },
     "metadata": {},
     "output_type": "display_data"
    }
   ],
   "source": [
    "model <- lm(`volume atrium diastole`~`pressure diastole` , data = data)\n",
    "summary(model)"
   ]
  },
  {
   "cell_type": "code",
   "execution_count": 51,
   "metadata": {
    "vscode": {
     "languageId": "r"
    }
   },
   "outputs": [
    {
     "data": {
      "image/png": "[encoded data removed]",
      "text/plain": [
       "Plot with title \"Pressure vs Volume\""
      ]
     },
     "metadata": {
      "image/png": {
       "height": 420,
       "width": 420
      }
     },
     "output_type": "display_data"
    }
   ],
   "source": [
    "plot(data$`pressure diastole`, data$`volume atrium diastole`, main = \"Pressure vs Volume\", xlab = \"pressure\", ylab = \"volume\")\n",
    "abline(model, col = \"red\", lwd = 2)\n",
    "eq <- paste0(\"y = \", round(coef(model)[1], 4), \" + \", round(coef(model)[2], 4), \"x\")\n",
    "text(400, .8, eq, pos = 3, offset = 0.5)"
   ]
  },
  {
   "cell_type": "markdown",
   "metadata": {},
   "source": [
    "so our compliance value is equal to .68724"
   ]
  },
  {
   "cell_type": "markdown",
   "metadata": {},
   "source": [
    "the line does not seem to fit it well though, we could linearize it, but lets ignore it for now"
   ]
  }
 ],
 "metadata": {
  "kernelspec": {
   "display_name": "R",
   "language": "R",
   "name": "ir"
  },
  "language_info": {
   "codemirror_mode": "r",
   "file_extension": ".r",
   "mimetype": "text/x-r-source",
   "name": "R",
   "pygments_lexer": "r",
   "version": "4.3.0"
  },
  "orig_nbformat": 4
 },
 "nbformat": 4,
 "nbformat_minor": 2
}
