{
 "cells": [
  {
   "cell_type": "markdown",
   "metadata": {},
   "source": [
    "# Final Project\n",
    "\n",
    "> This final project will provide an overview of our customer's problem, along with potential solutions along with a decision matrix for evaluation"
   ]
  },
  {
   "cell_type": "markdown",
   "metadata": {},
   "source": [
    "### The customer\n",
    "\n",
    "This is customer #1. Customer #1 has a visual impairment which hinders them from using public transportation. They have trouble locating the exact position of a bus stop, and have trouble finding out when a bus is approaching"
   ]
  },
  {
   "cell_type": "markdown",
   "metadata": {},
   "source": [
    "### Research\n",
    "\n",
    "\n",
    "| source | summary |\n",
    "| --- | --- | \n",
    "| The reddit community for blind and visually impaired individuals can be found [here](https://www.reddit.com/r/Blind/) | The reddit community mentions how people are patronized simply because they are blind. They find this annoying, and absurd. Additionally, there is discussion regarding the problems that the platform itself provides to those who are visually impaired. Upon releasing an accessibility update, it introduced overlooked bugs that made moderation impossible for those who are blind. With regard to third party accessibility apps, reddit made a business decision to effectively remove users' access to third-party apps and must assure that access by its own means. There are more issues under the surface. |\n",
    "| [This](https://www.wsblind.org/blog/2020/8/20/public-transportation-tips-for-the-blind-and-visually-impaired#:~:text=10.-,Paratransit,you%20off%20at%20certain%20locations.) article describes public transit tips for those who suffer from severe visual impairments. |The article is a little more specific to the task at hand. It shows that there really arent enough solutions for public transit for the visually impaired. The article suggests using paratransit and apps. Terrible solutions. Paratransit may make blind people feel more patronized, and they may not be able to pay the necessary fee that is over 25% more expensive than a normal bus pass. apps have their limitations, that can only speak specific directions. Again, google maps can be off by a few meters, which really means a lot when finding a specific bus stop. The current solutions are insufficient. |\n",
    "\n",
    "\n",
    "We have compiled a list of needs: \n",
    "\n",
    "| Customer needs | measurements | specs |\n",
    "| --- | --- | --- | \n",
    "| Needs to be able to locate a bus stop with high accuracy. | accuracy on test dataset  | accurately identifies a bus stop in at least 97% of images | \n",
    "| Needs to be able to identify when a bus has stopped.  | real time data accuracy | bus location should be accurate to 100 meters on a gps. | \n",
    "| Requires real-time information about bus arrival times and any delays or changes in the schedule. | real time data accuracy | route data should be updated every 5 minutes | \n",
    "| Needs the device to be portable and lightweight, ensuring ease of carrying while traveling.  | weight and size | \tweighs less than 500 grams and has dimensions less than 20cm x 10cm x 5cm | \n"
   ]
  },
  {
   "cell_type": "markdown",
   "metadata": {},
   "source": [
    "### Brainstorming\n",
    "\n",
    "1. Corrective lenses. its always better to fix the problem at the source. Corrective lenses have been used for centuries now, and should be the first choice since they are an elegant and simple solution\n",
    "2. Mobile App with Audio Guidance: A mobile app that uses a gps to help the user navigate public transportation. The app could give audio cues about nearby buses, stops, and obstacles.\n",
    "3. Public Transportation Beacon System: Implementing a beacon system at bus stops and inside buses could provide relevant information about the bus route, estimated arrival time, to another device like a phone.\n",
    "4. Wearable Glasses with Real-time Navigation: Smart glasses equipped with cameras and object detection algorithms that can identify bus stops, buses, and other obstacles in real-time. The glasses could provide voice instructions to guide the user during their commute."
   ]
  },
  {
   "cell_type": "markdown",
   "metadata": {},
   "source": [
    "### Evaluation with a Screening matrix\n",
    "Here are our wants\n",
    "\n",
    "| want | weight|\n",
    "| -- | -- |\n",
    "|portability| .7 |\n",
    "| bus stop accuracy | 1 |\n",
    "| battery life | .5 |\n",
    "| adaptability to schedule changes | .9 |\n",
    "| identify when busses have stopped | .3 |\n",
    "| caters to the blind | .8 |\n",
    "\n",
    "$$ m = \n",
    "\n",
    "\\begin{bmatrix}\n",
    ".7 \\\\\n",
    "1 \\\\\n",
    ".5 \\\\\n",
    ".9 \\\\\n",
    ".3 \\\\\n",
    ".8\n",
    "\\end{bmatrix}\n",
    "$$"
   ]
  },
  {
   "cell_type": "markdown",
   "metadata": {},
   "source": [
    "I assigned each idea scores for each want. These are found in the [data.csv]() file."
   ]
  },
  {
   "cell_type": "code",
   "execution_count": 20,
   "metadata": {
    "vscode": {
     "languageId": "r"
    }
   },
   "outputs": [
    {
     "name": "stderr",
     "output_type": "stream",
     "text": [
      "Warning message in read.table(file = file, header = header, sep = sep, quote = quote, :\n",
      "\"incomplete final line found by readTableHeader on 'data.csv'\"\n"
     ]
    },
    {
     "data": {
      "text/html": [
       "<table class=\"dataframe\">\n",
       "<caption>A data.frame: 4 × 7</caption>\n",
       "<thead>\n",
       "\t<tr><th scope=col>name</th><th scope=col>portability</th><th scope=col>accuracy</th><th scope=col>battery</th><th scope=col>adaptability</th><th scope=col>stops</th><th scope=col>blind</th></tr>\n",
       "\t<tr><th scope=col>&lt;chr&gt;</th><th scope=col>&lt;int&gt;</th><th scope=col>&lt;dbl&gt;</th><th scope=col>&lt;dbl&gt;</th><th scope=col>&lt;dbl&gt;</th><th scope=col>&lt;dbl&gt;</th><th scope=col>&lt;dbl&gt;</th></tr>\n",
       "</thead>\n",
       "<tbody>\n",
       "\t<tr><td>Corrective lenses                         </td><td>1</td><td>1.0</td><td>1.0</td><td>1.0</td><td>0.0</td><td>0.0</td></tr>\n",
       "\t<tr><td>Mobile App with Audio Guidance            </td><td>1</td><td>0.8</td><td>0.8</td><td>0.6</td><td>0.2</td><td>0.6</td></tr>\n",
       "\t<tr><td>Public Transportation Beacon System       </td><td>1</td><td>1.0</td><td>1.0</td><td>1.0</td><td>1.0</td><td>1.0</td></tr>\n",
       "\t<tr><td>Wearable Glasses with Real-time Navigation</td><td>1</td><td>0.7</td><td>0.8</td><td>0.6</td><td>0.8</td><td>0.8</td></tr>\n",
       "</tbody>\n",
       "</table>\n"
      ],
      "text/latex": [
       "A data.frame: 4 × 7\n",
       "\\begin{tabular}{lllllll}\n",
       " name & portability & accuracy & battery & adaptability & stops & blind\\\\\n",
       " <chr> & <int> & <dbl> & <dbl> & <dbl> & <dbl> & <dbl>\\\\\n",
       "\\hline\n",
       "\t Corrective lenses                          & 1 & 1.0 & 1.0 & 1.0 & 0.0 & 0.0\\\\\n",
       "\t Mobile App with Audio Guidance             & 1 & 0.8 & 0.8 & 0.6 & 0.2 & 0.6\\\\\n",
       "\t Public Transportation Beacon System        & 1 & 1.0 & 1.0 & 1.0 & 1.0 & 1.0\\\\\n",
       "\t Wearable Glasses with Real-time Navigation & 1 & 0.7 & 0.8 & 0.6 & 0.8 & 0.8\\\\\n",
       "\\end{tabular}\n"
      ],
      "text/markdown": [
       "\n",
       "A data.frame: 4 × 7\n",
       "\n",
       "| name &lt;chr&gt; | portability &lt;int&gt; | accuracy &lt;dbl&gt; | battery &lt;dbl&gt; | adaptability &lt;dbl&gt; | stops &lt;dbl&gt; | blind &lt;dbl&gt; |\n",
       "|---|---|---|---|---|---|---|\n",
       "| Corrective lenses                          | 1 | 1.0 | 1.0 | 1.0 | 0.0 | 0.0 |\n",
       "| Mobile App with Audio Guidance             | 1 | 0.8 | 0.8 | 0.6 | 0.2 | 0.6 |\n",
       "| Public Transportation Beacon System        | 1 | 1.0 | 1.0 | 1.0 | 1.0 | 1.0 |\n",
       "| Wearable Glasses with Real-time Navigation | 1 | 0.7 | 0.8 | 0.6 | 0.8 | 0.8 |\n",
       "\n"
      ],
      "text/plain": [
       "  name                                       portability accuracy battery\n",
       "1 Corrective lenses                          1           1.0      1.0    \n",
       "2 Mobile App with Audio Guidance             1           0.8      0.8    \n",
       "3 Public Transportation Beacon System        1           1.0      1.0    \n",
       "4 Wearable Glasses with Real-time Navigation 1           0.7      0.8    \n",
       "  adaptability stops blind\n",
       "1 1.0          0.0   0.0  \n",
       "2 0.6          0.2   0.6  \n",
       "3 1.0          1.0   1.0  \n",
       "4 0.6          0.8   0.8  "
      ]
     },
     "metadata": {},
     "output_type": "display_data"
    }
   ],
   "source": [
    "data <- read.csv(\"data.csv\")\n",
    "data"
   ]
  },
  {
   "cell_type": "code",
   "execution_count": 21,
   "metadata": {
    "vscode": {
     "languageId": "r"
    }
   },
   "outputs": [
    {
     "data": {
      "text/html": [
       "<table class=\"dataframe\">\n",
       "<caption>A matrix: 6 × 1 of type dbl</caption>\n",
       "<tbody>\n",
       "\t<tr><td>0.7</td></tr>\n",
       "\t<tr><td>1.0</td></tr>\n",
       "\t<tr><td>0.5</td></tr>\n",
       "\t<tr><td>0.9</td></tr>\n",
       "\t<tr><td>0.3</td></tr>\n",
       "\t<tr><td>0.8</td></tr>\n",
       "</tbody>\n",
       "</table>\n"
      ],
      "text/latex": [
       "A matrix: 6 × 1 of type dbl\n",
       "\\begin{tabular}{l}\n",
       "\t 0.7\\\\\n",
       "\t 1.0\\\\\n",
       "\t 0.5\\\\\n",
       "\t 0.9\\\\\n",
       "\t 0.3\\\\\n",
       "\t 0.8\\\\\n",
       "\\end{tabular}\n"
      ],
      "text/markdown": [
       "\n",
       "A matrix: 6 × 1 of type dbl\n",
       "\n",
       "| 0.7 |\n",
       "| 1.0 |\n",
       "| 0.5 |\n",
       "| 0.9 |\n",
       "| 0.3 |\n",
       "| 0.8 |\n",
       "\n"
      ],
      "text/plain": [
       "     [,1]\n",
       "[1,] 0.7 \n",
       "[2,] 1.0 \n",
       "[3,] 0.5 \n",
       "[4,] 0.9 \n",
       "[5,] 0.3 \n",
       "[6,] 0.8 "
      ]
     },
     "metadata": {},
     "output_type": "display_data"
    }
   ],
   "source": [
    "m <- matrix(c(0.7, 1, 0.5, 0.9, 0.3, 0.8), nrow = 6, ncol = 1)\n",
    "m"
   ]
  },
  {
   "cell_type": "code",
   "execution_count": 22,
   "metadata": {
    "vscode": {
     "languageId": "r"
    }
   },
   "outputs": [
    {
     "data": {
      "text/html": [
       "<table class=\"dataframe\">\n",
       "<caption>A data.frame: 4 × 8</caption>\n",
       "<thead>\n",
       "\t<tr><th scope=col>name</th><th scope=col>portability</th><th scope=col>accuracy</th><th scope=col>battery</th><th scope=col>adaptability</th><th scope=col>stops</th><th scope=col>blind</th><th scope=col>score</th></tr>\n",
       "\t<tr><th scope=col>&lt;chr&gt;</th><th scope=col>&lt;int&gt;</th><th scope=col>&lt;dbl&gt;</th><th scope=col>&lt;dbl&gt;</th><th scope=col>&lt;dbl&gt;</th><th scope=col>&lt;dbl&gt;</th><th scope=col>&lt;dbl&gt;</th><th scope=col>&lt;dbl[,1]&gt;</th></tr>\n",
       "</thead>\n",
       "<tbody>\n",
       "\t<tr><td>Corrective lenses                         </td><td>1</td><td>1.0</td><td>1.0</td><td>1.0</td><td>0.0</td><td>0.0</td><td>3.10</td></tr>\n",
       "\t<tr><td>Mobile App with Audio Guidance            </td><td>1</td><td>0.8</td><td>0.8</td><td>0.6</td><td>0.2</td><td>0.6</td><td>2.98</td></tr>\n",
       "\t<tr><td>Public Transportation Beacon System       </td><td>1</td><td>1.0</td><td>1.0</td><td>1.0</td><td>1.0</td><td>1.0</td><td>4.20</td></tr>\n",
       "\t<tr><td>Wearable Glasses with Real-time Navigation</td><td>1</td><td>0.7</td><td>0.8</td><td>0.6</td><td>0.8</td><td>0.8</td><td>3.22</td></tr>\n",
       "</tbody>\n",
       "</table>\n"
      ],
      "text/latex": [
       "A data.frame: 4 × 8\n",
       "\\begin{tabular}{llllllll}\n",
       " name & portability & accuracy & battery & adaptability & stops & blind & score\\\\\n",
       " <chr> & <int> & <dbl> & <dbl> & <dbl> & <dbl> & <dbl> & <dbl{[},1{]}>\\\\\n",
       "\\hline\n",
       "\t Corrective lenses                          & 1 & 1.0 & 1.0 & 1.0 & 0.0 & 0.0 & 3.10\\\\\n",
       "\t Mobile App with Audio Guidance             & 1 & 0.8 & 0.8 & 0.6 & 0.2 & 0.6 & 2.98\\\\\n",
       "\t Public Transportation Beacon System        & 1 & 1.0 & 1.0 & 1.0 & 1.0 & 1.0 & 4.20\\\\\n",
       "\t Wearable Glasses with Real-time Navigation & 1 & 0.7 & 0.8 & 0.6 & 0.8 & 0.8 & 3.22\\\\\n",
       "\\end{tabular}\n"
      ],
      "text/markdown": [
       "\n",
       "A data.frame: 4 × 8\n",
       "\n",
       "| name &lt;chr&gt; | portability &lt;int&gt; | accuracy &lt;dbl&gt; | battery &lt;dbl&gt; | adaptability &lt;dbl&gt; | stops &lt;dbl&gt; | blind &lt;dbl&gt; | score &lt;dbl[,1]&gt; |\n",
       "|---|---|---|---|---|---|---|---|\n",
       "| Corrective lenses                          | 1 | 1.0 | 1.0 | 1.0 | 0.0 | 0.0 | 3.10 |\n",
       "| Mobile App with Audio Guidance             | 1 | 0.8 | 0.8 | 0.6 | 0.2 | 0.6 | 2.98 |\n",
       "| Public Transportation Beacon System        | 1 | 1.0 | 1.0 | 1.0 | 1.0 | 1.0 | 4.20 |\n",
       "| Wearable Glasses with Real-time Navigation | 1 | 0.7 | 0.8 | 0.6 | 0.8 | 0.8 | 3.22 |\n",
       "\n"
      ],
      "text/plain": [
       "  name                                       portability accuracy battery\n",
       "1 Corrective lenses                          1           1.0      1.0    \n",
       "2 Mobile App with Audio Guidance             1           0.8      0.8    \n",
       "3 Public Transportation Beacon System        1           1.0      1.0    \n",
       "4 Wearable Glasses with Real-time Navigation 1           0.7      0.8    \n",
       "  adaptability stops blind score\n",
       "1 1.0          0.0   0.0   3.10 \n",
       "2 0.6          0.2   0.6   2.98 \n",
       "3 1.0          1.0   1.0   4.20 \n",
       "4 0.6          0.8   0.8   3.22 "
      ]
     },
     "metadata": {},
     "output_type": "display_data"
    }
   ],
   "source": [
    "result <- as.matrix(data[, -1]) %*% m\n",
    "data[\"score\"] = result\n",
    "data"
   ]
  },
  {
   "cell_type": "markdown",
   "metadata": {},
   "source": [
    "### Refining\n",
    "\n",
    "As our decision matrix shows, our final result is the Public transportation Beacon system. This system is the best as it would be incredibly robust. A beacon at each bus stop could communicate to a phone to help pinpoint the exact location of the bus stop to a blind person. This beacon would be issued by the city, and could implement location trackers on the busses to indicate if there are any updates in route, delays, and also if a bus is approaching. If bus stops are moved, the beacon would move with it. It is the most adaptable out of all three because it is maintained by the city. Additionally, there would be no burden of charging on the user, as it would be supplied constant power as it does not need to move. There is nothing that the user needs to carry other than a phone that would relat this information to them audibly. These clear benefits paired with guaranteed maintenece from the city would make it the most robust idea on the list."
   ]
  }
 ],
 "metadata": {
  "kernelspec": {
   "display_name": "R",
   "language": "R",
   "name": "ir"
  },
  "language_info": {
   "codemirror_mode": "r",
   "file_extension": ".r",
   "mimetype": "text/x-r-source",
   "name": "R",
   "pygments_lexer": "r",
   "version": "4.3.0"
  },
  "orig_nbformat": 4
 },
 "nbformat": 4,
 "nbformat_minor": 2
}
