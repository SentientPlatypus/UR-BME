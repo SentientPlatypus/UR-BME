{
 "cells": [
  {
   "cell_type": "markdown",
   "metadata": {},
   "source": [
    "# Module 3 Assignment\n",
    "\n",
    "> Based on what you've learned about physiology consider adding or removing needs from your previous needs list. Then, for each need, summarize in 2-3 sentences how physiology affects it. Submit this information as a table using the template below."
   ]
  },
  {
   "cell_type": "markdown",
   "metadata": {},
   "source": [
    "I chose customer 1, the customer who has trouble with public transit because they have a visual impairment. The rod cells mentioned in the physiology video discern shapes, and shades of gray. Cone cells determine red green and blue, allowing us to see finer details. These two cells determine acuity. Visual acuity determines the sharpness of vision. People with low visual acuity may have difficulty reading signs or identifying landmarks. Using large, clear fonts and providing audio or tactile alternatives to visual information can be helpful.\n",
    "\n",
    "Additionally, if the visual impairment is an issue with ciliary muscles, we could use artificial tissue to perhaps assist them."
   ]
  },
  {
   "cell_type": "markdown",
   "metadata": {},
   "source": [
    "| need | physiology |\n",
    "| --- | --- | \n",
    "| Needs to be able to locate a bus stop with high accuracy. |Implementing high-contrast and large-font signage with clear symbols and tactile elements can help individuals with visual impairments identify bus stops more easily. Braille information on signs can also be beneficial for those who read Braille.| \n",
    "| Needs to be able to identify when a bus has stopped.  | Busses seem to be large enough to notice, especially when at a bus stop. However, if the customer is entirely blind, Audio announcements or beeping sounds inside the bus can also indicate stops. | \n",
    "| Requires real-time information about bus arrival times and any delays or changes in the schedule. | Reading digital displays or schedules at the bus stop may be challenging for individuals with visual impairments. changes should be audible | \n",
    "| Needs the device to be portable and lightweight, ensuring ease of carrying while traveling.  | Ensuring the device is lightweight and compact will make it easier for the individual to carry it while traveling and move around with minimal strain. This need does not really have anything to do with eye physiology, but it is important. | "
   ]
  }
 ],
 "metadata": {
  "language_info": {
   "name": "python"
  },
  "orig_nbformat": 4
 },
 "nbformat": 4,
 "nbformat_minor": 2
}
