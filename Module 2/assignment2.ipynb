{
 "cells": [
  {
   "cell_type": "markdown",
   "metadata": {},
   "source": [
    "# Module 2 Assignment\n",
    " > work on the issue the customer you chose in the previous module faces in more detail. First, you will research the issue and summarize how the information you found helps you better understand it. Then, you will develop a list of needs for your customer."
   ]
  },
  {
   "cell_type": "markdown",
   "metadata": {},
   "source": [
    "1. The reddit community for blind and visually impaired individuals can be found [here](https://www.reddit.com/r/Blind/)\n",
    "2. [This](https://www.wsblind.org/blog/2020/8/20/public-transportation-tips-for-the-blind-and-visually-impaired#:~:text=10.-,Paratransit,you%20off%20at%20certain%20locations.) article describes public transit tips for those who suffer from severe visual impairments.\n",
    "\n",
    "These resources help me understand the problems that are often overlooked with regards to people who are visually impaired. The reddit community mentions how people are patronized simply because they are blind. They find this annoying, and absurd. Additionally, there is discussion regarding the problems that the platform itself provides to those who are visually impaired. Upon releasing an accessibility update, it introduced overlooked bugs that made moderation impossible for those who are blind. With regard to third party accessibility apps, reddit made a business decision to effectively remove users' access to third-party apps and must assure that access by its own means. There are more issues under the surface.\n",
    "\n",
    "The article is a little more specific to the task at hand. It shows that there really arent enough solutions for public transit for the visually impaired. The article suggests using paratransit and apps. Terrible solutions. Paratransit may make blind people feel more patronized, and they may not be able to pay the necessary fee that is over 25% more expensive than a normal bus pass. apps have their limitations, that can only speak specific directions. Again, google maps can be off by a few meters, which really means a lot when finding a specific bus stop. The current solutions are insufficient."
   ]
  },
  {
   "cell_type": "markdown",
   "metadata": {},
   "source": [
    "# Customer 1\n",
    "\n",
    "Customer 1 has a visual impairment that inhibits them from using public transportation. This person has trouble locating the stop, and has trouble knowing when the bus is arriving. \n",
    "\n",
    "*Customer needs:*\n",
    "1. Needs to be able to locate a bus stop with high accuracy.\n",
    "2. Needs to be able to identify when a bus has stopped. \n",
    "3. Requires real-time information about bus arrival times and any delays or changes in the schedule.\n",
    "4. Needs audible or tactile feedback to assist in navigating to the bus stop independently.\n",
    "5. Requires a user-friendly interface that is accessible and easy to use for individuals with visual impairments.\n",
    "6. Needs the device to be portable and lightweight, ensuring ease of carrying while traveling.\n",
    "7. Requires the device to have a long-lasting battery life to avoid frequent charging or power concerns.\n"
   ]
  }
 ],
 "metadata": {
  "language_info": {
   "name": "python"
  },
  "orig_nbformat": 4
 },
 "nbformat": 4,
 "nbformat_minor": 2
}
